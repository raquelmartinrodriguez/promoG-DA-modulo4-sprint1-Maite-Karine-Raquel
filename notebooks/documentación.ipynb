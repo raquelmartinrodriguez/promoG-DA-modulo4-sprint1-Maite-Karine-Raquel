{
 "cells": [
  {
   "cell_type": "markdown",
   "metadata": {},
   "source": [
    "### ARCHIVO CALIDAD-PAÍS:\n",
    "\n",
    "| Columna                   | Descripción                                                                                                                                                            |\n",
    "|---------------------------|------------------------------------------------------------------------------------------------------------------------------------------------------------------------|\n",
    "| country_of_origin         | El país de origen específico del café.                                                                                                                                 |\n",
    "| avg_aroma                 | El promedio de aroma del café para el país de origen.                                                                                                                  |\n",
    "| avg_flavor                | El promedio de sabor del café para el país de origen.                                                                                                                  |\n",
    "| avg_aftertaste            | El promedio de regusto del café para el país de origen.                                                                                                                |\n",
    "| avg_acidity               | El promedio de acidez del café para el país de origen.                                                                                                                 |\n",
    "| avg_body                  | El promedio de cuerpo del café para el país de origen.                                                                                                                 |\n",
    "| avg_balance               | El promedio de equilibrio del café para el país de origen.                                                                                                             |\n",
    "| avg_uniformity            | El promedio de uniformidad del café para el país de origen.                                                                                                            |\n",
    "| avg_clean_cup             | El promedio de limpieza de la taza del café para el país de origen.                                                                                                    |\n",
    "| avg_sweetness             | El promedio de dulzura del café para el país de origen.                                                                                                                |\n",
    "| avg_moisture              | El promedio de humedad del café para el país de origen.                                                                                                                |\n",
    "| avg_quakers               | El promedio de granos de café \"quaker\" para el país de origen.                                                                                                         |\n",
    "| avg_category_one_defects | El promedio de defectos de categoría uno del café para el país de origen.                                                                                              |\n",
    "| avg_category_two_defects | El promedio de defectos de categoría dos del café para el país de origen.                                                                                              |\n",
    "| rec_cnt                   | El recuento de registros o muestras de café para el país de origen.                                                                                                    |\n"
   ]
  },
  {
   "cell_type": "markdown",
   "metadata": {},
   "source": [
    "### ARCHIVO CALIDAD CAFÉ:\n",
    "\n",
    "| Columna                | Descripción                                                             |\n",
    "|------------------------|-------------------------------------------------------------------------|\n",
    "| species                | La especie de café                                                      |\n",
    "| continent_of_origin    | El continente donde se originó el café                                  |\n",
    "| country_of_origin      | El país de origen específico del café                                   |\n",
    "| harvest_year           | El año de cosecha del café                                              |\n",
    "| expiration             | La fecha de vencimiento del café                                         |\n",
    "| variety                | La variedad de café                                                      |\n",
    "| color                  | El color del café                                                        |\n",
    "| processing_method      | El método de procesamiento del café                                     |\n",
    "| aroma                  | Atributo sensorial: aroma                                                |\n",
    "| flavor                 | Atributo sensorial: sabor                                                |\n",
    "| aftertaste             | Atributo sensorial: regusto                                              |\n",
    "| acidity                | Atributo sensorial: acidez                                               |\n",
    "| body                   | Atributo sensorial: cuerpo                                               |\n",
    "| balance                | Atributo sensorial: equilibrio                                           |\n",
    "| uniformity             | Atributo sensorial: uniformidad                                          |\n",
    "| clean_cup              | Atributo sensorial: limpieza de la taza                                  |\n",
    "| sweetness              | Atributo sensorial: dulzura                                              |\n",
    "| moisture               | Nivel de humedad del café                                                |\n",
    "| quakers                | Cantidad de granos de café \"quaker\"                                      |\n",
    "| category_one_defects  | Cantidad de defectos de categoría uno en el café                        |\n",
    "| category_two_defects  | Cantidad de defectos de categoría dos en el café                        |\n",
    "\n"
   ]
  },
  {
   "cell_type": "markdown",
   "metadata": {},
   "source": [
    "### ARCHIVO CONSUMO CAFÉ: \n",
    "\n",
    "| Columna            | Descripción                                                                                                     |\n",
    "|--------------------|-----------------------------------------------------------------------------------------------------------------|\n",
    "| country            | Esta columna indica el país al que se refieren los datos. Cada fila en el conjunto de datos corresponderá a un país particular.                  |\n",
    "| totcons2019        | Esta columna representa el total de consumo de café en el año 2019 para el país correspondiente. Indica la cantidad total de café consumida en ese país durante el año 2019, posiblemente medida en una unidad de volumen (como toneladas, kilogramos, etc.) o en valor monetario (como dólares, euros, etc.).              |\n",
    "| percapitacons2016 | Esta columna muestra el consumo per cápita de café en el año 2016 para el país específico. Indica la cantidad promedio de café consumida por persona en ese país durante el año 2016. Puede estar expresado en una unidad de volumen (como litros o kilogramos per cápita) o en una medida más general, como la cantidad de tazas de café por persona por año. La información se refiere al consumo individual promedio en el país durante ese año. |\n"
   ]
  }
 ],
 "metadata": {
  "kernelspec": {
   "display_name": "Python 3",
   "language": "python",
   "name": "python3"
  },
  "language_info": {
   "name": "python",
   "version": "3.9.13"
  }
 },
 "nbformat": 4,
 "nbformat_minor": 2
}
